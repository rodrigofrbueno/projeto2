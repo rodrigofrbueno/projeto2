{
  "nbformat": 4,
  "nbformat_minor": 0,
  "metadata": {
    "colab": {
      "name": "projeto2.ipynb",
      "provenance": [],
      "authorship_tag": "ABX9TyNTDoVpl3SxBf/12cq1d+Rz",
      "include_colab_link": true
    },
    "kernelspec": {
      "name": "python3",
      "display_name": "Python 3"
    },
    "language_info": {
      "name": "python"
    }
  },
  "cells": [
    {
      "cell_type": "markdown",
      "metadata": {
        "id": "view-in-github",
        "colab_type": "text"
      },
      "source": [
        "<a href=\"https://colab.research.google.com/github/rodrigofrbueno/projeto2/blob/main/projeto2.ipynb\" target=\"_parent\"><img src=\"https://colab.research.google.com/assets/colab-badge.svg\" alt=\"Open In Colab\"/></a>"
      ]
    },
    {
      "cell_type": "markdown",
      "metadata": {
        "id": "fRhnIFQFVPD6"
      },
      "source": [
        "Importação da biblioteca pandas, utilizada para análise e tratamento de dados"
      ]
    },
    {
      "cell_type": "code",
      "metadata": {
        "id": "Kq60sW5mGw1p"
      },
      "source": [
        "import pandas as pd"
      ],
      "execution_count": 1,
      "outputs": []
    },
    {
      "cell_type": "markdown",
      "metadata": {
        "id": "FJqHg-aKVflK"
      },
      "source": [
        "Salvando a url do meu GitHub em uma variável chamada url"
      ]
    },
    {
      "cell_type": "code",
      "metadata": {
        "id": "lirfYUy-KulM"
      },
      "source": [
        "url = \"https://raw.githubusercontent.com/rodrigofrbueno/projeto2/main/dados/ExercicioAula.csv\""
      ],
      "execution_count": 8,
      "outputs": []
    },
    {
      "cell_type": "markdown",
      "metadata": {
        "id": "_oR6Oms9VonY"
      },
      "source": [
        "Realizando a leitura do arquivo csv presente no meu Github"
      ]
    },
    {
      "cell_type": "code",
      "metadata": {
        "id": "vGEPouIgPn9Y"
      },
      "source": [
        "df=pd.read_csv(url, sep=\";\")"
      ],
      "execution_count": 9,
      "outputs": []
    },
    {
      "cell_type": "code",
      "metadata": {
        "id": "mIpp7-RcPxr5"
      },
      "source": [
        "print(df)"
      ],
      "execution_count": null,
      "outputs": []
    },
    {
      "cell_type": "markdown",
      "metadata": {
        "id": "M33S6oo1VwFg"
      },
      "source": [
        ""
      ]
    }
  ]
}