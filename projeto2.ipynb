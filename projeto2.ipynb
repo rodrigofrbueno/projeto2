{
  "nbformat": 4,
  "nbformat_minor": 0,
  "metadata": {
    "colab": {
      "name": "projeto2.ipynb",
      "provenance": [],
      "authorship_tag": "ABX9TyNnGQkYX5yQpLER890zgIfr",
      "include_colab_link": true
    },
    "kernelspec": {
      "name": "python3",
      "display_name": "Python 3"
    },
    "language_info": {
      "name": "python"
    }
  },
  "cells": [
    {
      "cell_type": "markdown",
      "metadata": {
        "id": "view-in-github",
        "colab_type": "text"
      },
      "source": [
        "<a href=\"https://colab.research.google.com/github/rodrigofrbueno/projeto2/blob/main/projeto2.ipynb\" target=\"_parent\"><img src=\"https://colab.research.google.com/assets/colab-badge.svg\" alt=\"Open In Colab\"/></a>"
      ]
    },
    {
      "cell_type": "markdown",
      "metadata": {
        "id": "fRhnIFQFVPD6"
      },
      "source": [
        "Importação da biblioteca pandas, utilizada para análise e tratamento de dados"
      ]
    },
    {
      "cell_type": "code",
      "metadata": {
        "id": "Kq60sW5mGw1p"
      },
      "source": [
        "import pandas as pd"
      ],
      "execution_count": 1,
      "outputs": []
    },
    {
      "cell_type": "markdown",
      "metadata": {
        "id": "FJqHg-aKVflK"
      },
      "source": [
        "Salvando a url do meu GitHub em uma variável chamada url"
      ]
    },
    {
      "cell_type": "code",
      "metadata": {
        "id": "lirfYUy-KulM"
      },
      "source": [
        "url = \"https://raw.githubusercontent.com/rodrigofrbueno/projeto2/main/dados/ExercicioAula.csv\""
      ],
      "execution_count": 8,
      "outputs": []
    },
    {
      "cell_type": "markdown",
      "metadata": {
        "id": "_oR6Oms9VonY"
      },
      "source": [
        "Realizando a leitura do arquivo csv presente no meu Github"
      ]
    },
    {
      "cell_type": "code",
      "metadata": {
        "id": "vGEPouIgPn9Y"
      },
      "source": [
        "df=pd.read_csv(url, sep=\";\")"
      ],
      "execution_count": 9,
      "outputs": []
    },
    {
      "cell_type": "code",
      "metadata": {
        "colab": {
          "base_uri": "https://localhost:8080/",
          "height": 881
        },
        "id": "mIpp7-RcPxr5",
        "outputId": "0bb94e47-75f6-4827-a296-0f0fe3e5a3e4"
      },
      "source": [
        "df"
      ],
      "execution_count": 14,
      "outputs": [
        {
          "output_type": "execute_result",
          "data": {
            "text/html": [
              "<div>\n",
              "<style scoped>\n",
              "    .dataframe tbody tr th:only-of-type {\n",
              "        vertical-align: middle;\n",
              "    }\n",
              "\n",
              "    .dataframe tbody tr th {\n",
              "        vertical-align: top;\n",
              "    }\n",
              "\n",
              "    .dataframe thead th {\n",
              "        text-align: right;\n",
              "    }\n",
              "</style>\n",
              "<table border=\"1\" class=\"dataframe\">\n",
              "  <thead>\n",
              "    <tr style=\"text-align: right;\">\n",
              "      <th></th>\n",
              "      <th>Nome da pessoa</th>\n",
              "      <th>Idade da pessoa</th>\n",
              "      <th>Documento CPF</th>\n",
              "      <th>Data de Nascimento</th>\n",
              "      <th>Sexo da pessoa</th>\n",
              "      <th>Signo da Pessoa</th>\n",
              "      <th>Nome da Mãe</th>\n",
              "      <th>Telefone Fixo</th>\n",
              "      <th>Telefone Celular</th>\n",
              "      <th>Altura da Pessoa</th>\n",
              "      <th>Peso da Pessoa</th>\n",
              "      <th>Tipo Sanguíneo da Pessoa</th>\n",
              "    </tr>\n",
              "  </thead>\n",
              "  <tbody>\n",
              "    <tr>\n",
              "      <th>0</th>\n",
              "      <td>Marli Juliana Nascimento</td>\n",
              "      <td>67</td>\n",
              "      <td>147.676.158-28</td>\n",
              "      <td>02/05/1954</td>\n",
              "      <td>Feminino</td>\n",
              "      <td>Touro</td>\n",
              "      <td>Emanuelly Manuela Raquel</td>\n",
              "      <td>(11) 3539-8798</td>\n",
              "      <td>(11) 98614-5862</td>\n",
              "      <td>1,82</td>\n",
              "      <td>80</td>\n",
              "      <td>AB+</td>\n",
              "    </tr>\n",
              "    <tr>\n",
              "      <th>1</th>\n",
              "      <td>Gabriela Alana Mariah Drumond</td>\n",
              "      <td>78</td>\n",
              "      <td>909.394.958-64</td>\n",
              "      <td>13/07/1943</td>\n",
              "      <td>Feminino</td>\n",
              "      <td>Câncer</td>\n",
              "      <td>Mariana Stella Jennifer</td>\n",
              "      <td>(19) 3636-6638</td>\n",
              "      <td>(19) 98907-6817</td>\n",
              "      <td>1,63</td>\n",
              "      <td>81</td>\n",
              "      <td>B+</td>\n",
              "    </tr>\n",
              "    <tr>\n",
              "      <th>2</th>\n",
              "      <td>Cauã Renato Silveira</td>\n",
              "      <td>19</td>\n",
              "      <td>796.865.138-76</td>\n",
              "      <td>18/06/2002</td>\n",
              "      <td>Masculino</td>\n",
              "      <td>Gêmeos</td>\n",
              "      <td>Jennifer Alice</td>\n",
              "      <td>(11) 2983-0013</td>\n",
              "      <td>(11) 99420-4446</td>\n",
              "      <td>1,71</td>\n",
              "      <td>73</td>\n",
              "      <td>B-</td>\n",
              "    </tr>\n",
              "    <tr>\n",
              "      <th>3</th>\n",
              "      <td>Benedito Sérgio Sebastião Cardoso</td>\n",
              "      <td>40</td>\n",
              "      <td>748.225.288-63</td>\n",
              "      <td>16/09/1981</td>\n",
              "      <td>Masculino</td>\n",
              "      <td>Virgem</td>\n",
              "      <td>Carolina Esther Betina</td>\n",
              "      <td>(12) 2981-9852</td>\n",
              "      <td>(12) 99813-1889</td>\n",
              "      <td>1,94</td>\n",
              "      <td>68</td>\n",
              "      <td>AB-</td>\n",
              "    </tr>\n",
              "    <tr>\n",
              "      <th>4</th>\n",
              "      <td>Flávia Isadora Lívia Moreira</td>\n",
              "      <td>20</td>\n",
              "      <td>568.818.498-18</td>\n",
              "      <td>27/01/2001</td>\n",
              "      <td>Feminino</td>\n",
              "      <td>Aquário</td>\n",
              "      <td>Bruna Carla</td>\n",
              "      <td>(19) 3728-7301</td>\n",
              "      <td>(19) 98547-3096</td>\n",
              "      <td>1,58</td>\n",
              "      <td>71</td>\n",
              "      <td>AB-</td>\n",
              "    </tr>\n",
              "    <tr>\n",
              "      <th>...</th>\n",
              "      <td>...</td>\n",
              "      <td>...</td>\n",
              "      <td>...</td>\n",
              "      <td>...</td>\n",
              "      <td>...</td>\n",
              "      <td>...</td>\n",
              "      <td>...</td>\n",
              "      <td>...</td>\n",
              "      <td>...</td>\n",
              "      <td>...</td>\n",
              "      <td>...</td>\n",
              "      <td>...</td>\n",
              "    </tr>\n",
              "    <tr>\n",
              "      <th>1595</th>\n",
              "      <td>Gustavo Luís Fogaça</td>\n",
              "      <td>22</td>\n",
              "      <td>431.259.578-00</td>\n",
              "      <td>05/05/1999</td>\n",
              "      <td>Masculino</td>\n",
              "      <td>Touro</td>\n",
              "      <td>Marcela Ester</td>\n",
              "      <td>(17) 3804-7015</td>\n",
              "      <td>(17) 99510-9391</td>\n",
              "      <td>1,97</td>\n",
              "      <td>61</td>\n",
              "      <td>AB+</td>\n",
              "    </tr>\n",
              "    <tr>\n",
              "      <th>1596</th>\n",
              "      <td>Sebastião Noah Anthony Castro</td>\n",
              "      <td>34</td>\n",
              "      <td>316.256.308-91</td>\n",
              "      <td>13/08/1987</td>\n",
              "      <td>Masculino</td>\n",
              "      <td>Leão</td>\n",
              "      <td>Luiza Agatha</td>\n",
              "      <td>(19) 3745-2551</td>\n",
              "      <td>(19) 98937-3100</td>\n",
              "      <td>1,87</td>\n",
              "      <td>87</td>\n",
              "      <td>O-</td>\n",
              "    </tr>\n",
              "    <tr>\n",
              "      <th>1597</th>\n",
              "      <td>Enzo Ruan Dias</td>\n",
              "      <td>42</td>\n",
              "      <td>440.535.058-28</td>\n",
              "      <td>25/06/1979</td>\n",
              "      <td>Masculino</td>\n",
              "      <td>Câncer</td>\n",
              "      <td>Clarice Nair Regina</td>\n",
              "      <td>(16) 2795-5569</td>\n",
              "      <td>(16) 99745-6869</td>\n",
              "      <td>1,97</td>\n",
              "      <td>71</td>\n",
              "      <td>O-</td>\n",
              "    </tr>\n",
              "    <tr>\n",
              "      <th>1598</th>\n",
              "      <td>Francisco Isaac Carvalho</td>\n",
              "      <td>57</td>\n",
              "      <td>604.360.418-39</td>\n",
              "      <td>04/06/1964</td>\n",
              "      <td>Masculino</td>\n",
              "      <td>Gêmeos</td>\n",
              "      <td>Isabelly Mirella</td>\n",
              "      <td>(11) 3688-6941</td>\n",
              "      <td>(11) 98352-4868</td>\n",
              "      <td>1,85</td>\n",
              "      <td>69</td>\n",
              "      <td>B-</td>\n",
              "    </tr>\n",
              "    <tr>\n",
              "      <th>1599</th>\n",
              "      <td>Elias Caleb Leonardo da Mata</td>\n",
              "      <td>68</td>\n",
              "      <td>917.381.098-36</td>\n",
              "      <td>21/06/1953</td>\n",
              "      <td>Masculino</td>\n",
              "      <td>Câncer</td>\n",
              "      <td>Eloá Mirella Ester</td>\n",
              "      <td>(19) 3953-0623</td>\n",
              "      <td>(19) 98212-6263</td>\n",
              "      <td>1,64</td>\n",
              "      <td>82</td>\n",
              "      <td>AB+</td>\n",
              "    </tr>\n",
              "  </tbody>\n",
              "</table>\n",
              "<p>1600 rows × 12 columns</p>\n",
              "</div>"
            ],
            "text/plain": [
              "                         Nome da pessoa  ...  Tipo Sanguíneo da Pessoa\n",
              "0              Marli Juliana Nascimento  ...                       AB+\n",
              "1         Gabriela Alana Mariah Drumond  ...                        B+\n",
              "2                  Cauã Renato Silveira  ...                        B-\n",
              "3     Benedito Sérgio Sebastião Cardoso  ...                       AB-\n",
              "4          Flávia Isadora Lívia Moreira  ...                       AB-\n",
              "...                                 ...  ...                       ...\n",
              "1595                Gustavo Luís Fogaça  ...                       AB+\n",
              "1596      Sebastião Noah Anthony Castro  ...                        O-\n",
              "1597                     Enzo Ruan Dias  ...                        O-\n",
              "1598           Francisco Isaac Carvalho  ...                        B-\n",
              "1599       Elias Caleb Leonardo da Mata  ...                       AB+\n",
              "\n",
              "[1600 rows x 12 columns]"
            ]
          },
          "metadata": {},
          "execution_count": 14
        }
      ]
    },
    {
      "cell_type": "markdown",
      "metadata": {
        "id": "M33S6oo1VwFg"
      },
      "source": [
        ""
      ]
    }
  ]
}